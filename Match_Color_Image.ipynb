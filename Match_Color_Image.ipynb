{
  "nbformat": 4,
  "nbformat_minor": 0,
  "metadata": {
    "colab": {
      "provenance": []
    },
    "kernelspec": {
      "name": "python3",
      "display_name": "Python 3"
    }
  },
  "cells": [
    {
      "cell_type": "code",
      "metadata": {
        "colab": {
          "base_uri": "https://localhost:8080/"
        },
        "id": "ErBf1_arB0a_",
        "outputId": "81eb5892-a1eb-42cf-99d6-1d6856dc51d8"
      },
      "source": [
        "!pip install colour-science"
      ],
      "execution_count": null,
      "outputs": [
        {
          "output_type": "stream",
          "text": [
            "Requirement already satisfied: colour-science in /usr/local/lib/python3.6/dist-packages (0.3.16)\n",
            "Requirement already satisfied: scipy<2.0.0,>=1.1.0 in /usr/local/lib/python3.6/dist-packages (from colour-science) (1.4.1)\n",
            "Requirement already satisfied: six in /usr/local/lib/python3.6/dist-packages (from colour-science) (1.15.0)\n",
            "Requirement already satisfied: imageio in /usr/local/lib/python3.6/dist-packages (from colour-science) (2.4.1)\n",
            "Requirement already satisfied: numpy>=1.13.3 in /usr/local/lib/python3.6/dist-packages (from scipy<2.0.0,>=1.1.0->colour-science) (1.19.4)\n",
            "Requirement already satisfied: pillow in /usr/local/lib/python3.6/dist-packages (from imageio->colour-science) (7.0.0)\n"
          ],
          "name": "stdout"
        }
      ]
    },
    {
      "cell_type": "code",
      "metadata": {
        "colab": {
          "base_uri": "https://localhost:8080/"
        },
        "id": "ID_TXUucChjZ",
        "outputId": "2675944b-55d9-4173-e391-2dd601d63a67"
      },
      "source": [
        "import numpy as np\n",
        "import colour\n",
        "\n",
        "# Assuming sRGB encoded colour values.\n",
        "RGB = np.array([3, 1, 129])\n",
        "\n",
        "# Conversion to tristimulus values.\n",
        "XYZ = colour.sRGB_to_XYZ(RGB / 255)\n",
        "\n",
        "# Conversion to chromaticity coordinates.\n",
        "xy = colour.XYZ_to_xy(XYZ)\n",
        "\n",
        "# Conversion to correlated colour temperature in K.\n",
        "CCT = colour.xy_to_CCT(xy, 'hernandez1999')\n",
        "print(CCT)"
      ],
      "execution_count": null,
      "outputs": [
        {
          "output_type": "stream",
          "text": [
            "91.5397715374\n"
          ],
          "name": "stdout"
        }
      ]
    }
  ]
}